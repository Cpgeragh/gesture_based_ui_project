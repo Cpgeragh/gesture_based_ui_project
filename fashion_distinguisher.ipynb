{
 "cells": [
  {
   "cell_type": "markdown",
   "metadata": {},
   "source": [
    "### **Step 1: Load and Process Data**"
   ]
  },
  {
   "cell_type": "code",
   "execution_count": 10,
   "metadata": {},
   "outputs": [],
   "source": [
    "import os\n",
    "import numpy as np\n",
    "from PIL import Image"
   ]
  },
  {
   "cell_type": "code",
   "execution_count": 11,
   "metadata": {},
   "outputs": [
    {
     "name": "stdout",
     "output_type": "stream",
     "text": [
      "Categories: ['ankleboot', 'bag', 'coat', 'dress', 'pullover', 'sandal', 'shirt', 'sneaker', 'trouser', 'tshirt-top']\n"
     ]
    }
   ],
   "source": [
    "# Path to dataset\n",
    "dataset_path = \"fashion\"\n",
    "\n",
    "# Get list of categories\n",
    "categories = os.listdir(dataset_path)\n",
    "print(\"Categories:\", categories)\n",
    "\n",
    "# Prepare storage for images and labels\n",
    "image_data = []\n",
    "labels = []\n",
    "\n",
    "# Set image size for consistency\n",
    "image_size = (64, 64)"
   ]
  }
 ],
 "metadata": {
  "kernelspec": {
   "display_name": "Python 3",
   "language": "python",
   "name": "python3"
  },
  "language_info": {
   "codemirror_mode": {
    "name": "ipython",
    "version": 3
   },
   "file_extension": ".py",
   "mimetype": "text/x-python",
   "name": "python",
   "nbconvert_exporter": "python",
   "pygments_lexer": "ipython3",
   "version": "3.12.2"
  }
 },
 "nbformat": 4,
 "nbformat_minor": 2
}
