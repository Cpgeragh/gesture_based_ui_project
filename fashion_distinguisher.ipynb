{
 "cells": [
  {
   "cell_type": "markdown",
   "metadata": {},
   "source": [
    "### **Step 1: Load and Process Data**"
   ]
  },
  {
   "cell_type": "code",
   "execution_count": 10,
   "metadata": {},
   "outputs": [],
   "source": [
    "import os\n",
    "import numpy as np\n",
    "from PIL import Image"
   ]
  },
  {
   "cell_type": "code",
   "execution_count": 11,
   "metadata": {},
   "outputs": [
    {
     "name": "stdout",
     "output_type": "stream",
     "text": [
      "Categories: ['ankleboot', 'bag', 'coat', 'dress', 'pullover', 'sandal', 'shirt', 'sneaker', 'trouser', 'tshirt-top']\n"
     ]
    }
   ],
   "source": [
    "# Path to dataset\n",
    "dataset_path = \"fashion\"\n",
    "\n",
    "# Get list of categories\n",
    "categories = os.listdir(dataset_path)\n",
    "print(\"Categories:\", categories)\n",
    "\n",
    "# Prepare storage for images and labels\n",
    "image_data = []\n",
    "labels = []\n",
    "\n",
    "# Set image size for consistency\n",
    "image_size = (64, 64)"
   ]
  },
  {
   "cell_type": "code",
   "execution_count": null,
   "metadata": {},
   "outputs": [],
   "source": [
    "# Load images\n",
    "for label, category in enumerate(categories):\n",
    "    category_path = os.path.join(dataset_path, category)\n",
    "    for image_name in os.listdir(category_path):\n",
    "        image_path = os.path.join(category_path, image_name)\n",
    "\n",
    "        # Open, resize, and convert image to grayscale\n",
    "        img = Image.open(image_path).convert(\"L\")\n",
    "        img = img.resize(image_size)\n",
    "        # Flatten image into 1D array\n",
    "        img_array = np.array(img).flatten()  \n",
    "\n",
    "        # Store the image data and corresponding label\n",
    "        image_data.append(img_array)\n",
    "        labels.append(label)"
   ]
  }
 ],
 "metadata": {
  "kernelspec": {
   "display_name": "Python 3",
   "language": "python",
   "name": "python3"
  },
  "language_info": {
   "codemirror_mode": {
    "name": "ipython",
    "version": 3
   },
   "file_extension": ".py",
   "mimetype": "text/x-python",
   "name": "python",
   "nbconvert_exporter": "python",
   "pygments_lexer": "ipython3",
   "version": "3.12.2"
  }
 },
 "nbformat": 4,
 "nbformat_minor": 2
}
