{
 "cells": [
  {
   "cell_type": "markdown",
   "metadata": {},
   "source": [
    "### **Step 1: Load and Process Data**"
   ]
  },
  {
   "cell_type": "code",
   "execution_count": 14,
   "metadata": {},
   "outputs": [],
   "source": [
    "import os\n",
    "import numpy as np\n",
    "from PIL import Image\n",
    "import matplotlib.pyplot as plt"
   ]
  },
  {
   "cell_type": "code",
   "execution_count": 3,
   "metadata": {},
   "outputs": [
    {
     "name": "stdout",
     "output_type": "stream",
     "text": [
      "Categories: ['ankleboot', 'bag', 'coat', 'dress', 'pullover', 'sandal', 'shirt', 'sneaker', 'trouser', 'tshirt-top']\n"
     ]
    }
   ],
   "source": [
    "# Path to dataset\n",
    "dataset_path = \"fashion\"\n",
    "\n",
    "# Get list of categories\n",
    "categories = os.listdir(dataset_path)\n",
    "print(\"Categories:\", categories)\n",
    "\n",
    "# Prepare storage for images and labels\n",
    "image_data = []\n",
    "labels = []\n",
    "\n",
    "# Set image size for consistency\n",
    "image_size = (64, 64)"
   ]
  },
  {
   "cell_type": "code",
   "execution_count": null,
   "metadata": {},
   "outputs": [],
   "source": [
    "# Load images and store first 5 images for visualization\n",
    "sample_images = {category: [] for category in categories}\n",
    "\n",
    "for label, category in enumerate(categories):\n",
    "    category_path = os.path.join(dataset_path, category)\n",
    "    # Track number of images processed per category\n",
    "    count = 0 \n",
    "    \n",
    "    for image_name in os.listdir(category_path):\n",
    "        image_path = os.path.join(category_path, image_name)\n",
    "\n",
    "        # Open, resize, and convert image to grayscale\n",
    "        img = Image.open(image_path).convert(\"L\")\n",
    "        img = img.resize(image_size)\n",
    "        # Flatten image into 1D array\n",
    "        img_array = np.array(img).flatten()  \n",
    "\n",
    "        # Store the image data and corresponding label\n",
    "        image_data.append(img_array)\n",
    "        labels.append(label)\n",
    "\n",
    "        # Store sample images (only first 5 per category)\n",
    "        if count < 5:\n",
    "            sample_images[category].append(np.array(img))  # Store raw image for display\n",
    "            count += 1"
   ]
  },
  {
   "cell_type": "code",
   "execution_count": null,
   "metadata": {},
   "outputs": [
    {
     "name": "stdout",
     "output_type": "stream",
     "text": [
      "Number of images and pixel size: (70000, 4096)\n",
      "Number of labels: (70000,)\n",
      "Number of catagories: 10\n"
     ]
    }
   ],
   "source": [
    "# Convert to NumPy arrays\n",
    "X = np.array(image_data)\n",
    "y = np.array(labels)\n",
    "\n",
    "# Tests\n",
    "print(f\"Number of images and pixel size: {X.shape}\")\n",
    "print(f\"Number of labels: {y.shape}\")\n",
    "print(f\"Number of catagories: {len(categories)}\")"
   ]
  }
 ],
 "metadata": {
  "kernelspec": {
   "display_name": "Python 3",
   "language": "python",
   "name": "python3"
  },
  "language_info": {
   "codemirror_mode": {
    "name": "ipython",
    "version": 3
   },
   "file_extension": ".py",
   "mimetype": "text/x-python",
   "name": "python",
   "nbconvert_exporter": "python",
   "pygments_lexer": "ipython3",
   "version": "3.12.2"
  }
 },
 "nbformat": 4,
 "nbformat_minor": 2
}
